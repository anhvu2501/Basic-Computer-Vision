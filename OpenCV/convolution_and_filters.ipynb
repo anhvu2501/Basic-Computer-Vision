{
 "cells": [
  {
   "cell_type": "code",
   "execution_count": 2,
   "metadata": {
    "collapsed": true,
    "pycharm": {
     "name": "#%%\n"
    }
   },
   "outputs": [],
   "source": [
    "import numpy as np\n",
    "import cv2\n",
    "from skimage.exposure import rescale_intensity\n",
    "# scikit-image library to help to implement our own custom convolution function."
   ]
  },
  {
   "cell_type": "code",
   "execution_count": 17,
   "outputs": [
    {
     "name": "stdout",
     "output_type": "stream",
     "text": [
      "(720, 960)\n"
     ]
    }
   ],
   "source": [
    "img = cv2.imread('Photos/Uppsala Sunset.jpg')\n",
    "gray_img = cv2.cvtColor(img, cv2.COLOR_BGR2GRAY)\n",
    "print(gray_img.shape)\n",
    "\n",
    "# gray_img = rescale_intensity(gray_img, in_range=(0, 124))\n",
    "# cv2.imshow('Image', gray_img)\n",
    "# cv2.waitKey(0)\n",
    "# cv2.destroyAllWindows()"
   ],
   "metadata": {
    "collapsed": false,
    "pycharm": {
     "name": "#%%\n"
    }
   }
  },
  {
   "cell_type": "code",
   "execution_count": 5,
   "outputs": [],
   "source": [
    "# Spatial Convolution\n",
    "def convolve(image, K):\n",
    "    (iH, iW) = image.shape[:2]\n",
    "    (kH, kW) = K.shape[:2]\n",
    "\n",
    "    padding = (kW - 1) // 2\n",
    "    image = cv2.copyMakeBorder(image, padding, padding, padding, padding, cv2.BORDER_REPLICATE)\n",
    "    output = np.zeros((iH, iW), dtype='float')\n",
    "\n",
    "    # loop over the input image, sliding the kernel across each (x, y) from left to right, top to bottom\n",
    "    for h in np.arange(padding, iH + padding):\n",
    "        for w in np.arange(padding, iW + padding):\n",
    "            # extract the region of interest of the image by extracting the center region of the current (x, y)\n",
    "            roi = image[h - padding: h + padding + 1, w - padding: w + padding + 1]\n",
    "\n",
    "            # perform convolution by taking element wise multiplication and sum the matrix\n",
    "            k = (roi * K).sum()\n",
    "\n",
    "            # store the convolved value in the output\n",
    "            output[h - padding, w - padding] = k\n",
    "\n",
    "    # rescale in range [0, 255]\n",
    "    output = rescale_intensity(output, in_range=(0, 255))\n",
    "    output = (output * 255).astype('uint8')\n",
    "\n",
    "    return output"
   ],
   "metadata": {
    "collapsed": false,
    "pycharm": {
     "name": "#%%\n"
    }
   }
  },
  {
   "cell_type": "code",
   "execution_count": 10,
   "outputs": [
    {
     "data": {
      "text/plain": "True"
     },
     "execution_count": 10,
     "metadata": {},
     "output_type": "execute_result"
    }
   ],
   "source": [
    "# This is average Filtering\n",
    "K_small_blur = np.ones((3, 3), dtype='float') * (1.0 / (3 * 3))\n",
    "# print(K.shape[:2])\n",
    "# print(gray_img.shape[:2])\n",
    "convolved_img_small = convolve(gray_img, K_small_blur)\n",
    "### OR\n",
    "# convolved_img_small = cv2.blur(gray_img, K_small_blur)\n",
    "cv2.imwrite('Photos/Spatial Convolution Small.png', convolved_img_small)\n",
    "\n",
    "K_large_blur = np.ones((9, 9), dtype=\"float\") * (1.0 / (9 * 9))\n",
    "convolved_img_large = convolve(gray_img, K_large_blur)\n",
    "### OR\n",
    "# convolved_img_large = cv2.blur(gray_img, K_large_blur)\n",
    "cv2.imwrite('Photos/Spatial Convolution Large.png', convolved_img_large)"
   ],
   "metadata": {
    "collapsed": false,
    "pycharm": {
     "name": "#%%\n"
    }
   }
  },
  {
   "cell_type": "code",
   "execution_count": 7,
   "outputs": [
    {
     "data": {
      "text/plain": "True"
     },
     "execution_count": 7,
     "metadata": {},
     "output_type": "execute_result"
    }
   ],
   "source": [
    "# Weighted average filtering\n",
    "weighted_avg = np.array(([1, 2, 1],\n",
    "                         [2, 4, 2],\n",
    "                         [1, 2, 1]), dtype='float') * 1.0 / 16\n",
    "\n",
    "weighted_avg_img = convolve(gray_img, weighted_avg)\n",
    "cv2.imwrite('Photos/Weighted Avg Filter.png', weighted_avg_img)"
   ],
   "metadata": {
    "collapsed": false,
    "pycharm": {
     "name": "#%%\n"
    }
   }
  },
  {
   "cell_type": "markdown",
   "source": [],
   "metadata": {
    "collapsed": false,
    "pycharm": {
     "name": "#%% md\n"
    }
   }
  },
  {
   "cell_type": "code",
   "execution_count": 8,
   "outputs": [
    {
     "data": {
      "text/plain": "True"
     },
     "execution_count": 8,
     "metadata": {},
     "output_type": "execute_result"
    }
   ],
   "source": [
    "# Gaussian Filtering\n",
    "gaussian_img = cv2.GaussianBlur(gray_img, (5, 5), 0)\n",
    "cv2.imwrite('Photos/Gaussian.png', gaussian_img)"
   ],
   "metadata": {
    "collapsed": false,
    "pycharm": {
     "name": "#%%\n"
    }
   }
  },
  {
   "cell_type": "code",
   "execution_count": 25,
   "outputs": [
    {
     "data": {
      "text/plain": "True"
     },
     "execution_count": 25,
     "metadata": {},
     "output_type": "execute_result"
    }
   ],
   "source": [
    "# Sharpening Filtering\n",
    "\n",
    "# Using 1st derivative\n",
    "first_deri = np.array(([-1, -1, -1],\n",
    "                       [0, 0, 0],\n",
    "                       [1, 1, 1]))\n",
    "first_deri_img = convolve(gray_img, first_deri)\n",
    "cv2.imwrite('Photos/Sharpening_1.png', first_deri_img)\n",
    "\n",
    "# 2nd derivative\n",
    "second_deri = np.array(([-1, -2, -1],\n",
    "                        [0, 0, 0],\n",
    "                        [1, 2, 1]))\n",
    "second_deri_img = convolve(first_deri_img, second_deri)\n",
    "cv2.imwrite('Photos/Sharpening_2.png', second_deri_img)"
   ],
   "metadata": {
    "collapsed": false,
    "pycharm": {
     "name": "#%%\n"
    }
   }
  },
  {
   "cell_type": "code",
   "execution_count": 26,
   "outputs": [
    {
     "data": {
      "text/plain": "True"
     },
     "execution_count": 26,
     "metadata": {},
     "output_type": "execute_result"
    }
   ],
   "source": [
    "# Another sharpening filters\n",
    "sharpening_filter = np.array(([0, -1, 0],\n",
    "                              [-1, 5, -1],\n",
    "                              [0, -1, 0]))\n",
    "sharpened_img = cv2.filter2D(gray_img, -1, sharpening_filter)\n",
    "# ddepth means desired depth of the destination image\n",
    "# It has information about what kinds of data stored in an image, and that can be unsigned char (CV_8U), signed char (CV_8S), unsigned short (CV_16U), etc\n",
    "# sharpened_img = convolve(gray_img, sharpening_filter)\n",
    "cv2.imwrite('Photos/Sharpening.png', sharpened_img)\n",
    "\n",
    "sharpening_filter_2 = np.array(([-1, -1, -1],\n",
    "                                [-1, 9, -1],\n",
    "                                [-1, -1, -1]))\n",
    "# sharpened_img_2 = cv2.filter2D(gray_img, -1, sharpening_filter_2)\n",
    "sharpened_img_2 = convolve(gray_img, sharpening_filter_2)\n",
    "cv2.imwrite('Photos/Sharpening2.png', sharpened_img_2)"
   ],
   "metadata": {
    "collapsed": false,
    "pycharm": {
     "name": "#%%\n"
    }
   }
  },
  {
   "cell_type": "code",
   "execution_count": 30,
   "outputs": [
    {
     "data": {
      "text/plain": "True"
     },
     "execution_count": 30,
     "metadata": {},
     "output_type": "execute_result"
    }
   ],
   "source": [
    "# Laplacian Filtering\n",
    "laplacian_filter = np.array(([0, -1, 0],\n",
    "                             [-1, 4, -1],\n",
    "                             [0, -1, 0]))\n",
    "laplacian_img = convolve(gray_img, laplacian_filter)\n",
    "# laplacian_img2 = cv2.Laplacian(gray_img, -1, kernel_size=3)\n",
    "cv2.imwrite('Photos/Laplacian1.png', laplacian_img)\n",
    "\n",
    "laplacian_filter_2 = np.array(([-1, -1, -1],\n",
    "                               [-1, 8, -1],\n",
    "                               [-1, -1, -1]))\n",
    "\n",
    "laplacian_img2 = convolve(gray_img, laplacian_filter_2)\n",
    "cv2.imwrite('Photos/Laplacian2.png', laplacian_img2)"
   ],
   "metadata": {
    "collapsed": false,
    "pycharm": {
     "name": "#%%\n"
    }
   }
  }
 ],
 "metadata": {
  "kernelspec": {
   "display_name": "Python 3",
   "language": "python",
   "name": "python3"
  },
  "language_info": {
   "codemirror_mode": {
    "name": "ipython",
    "version": 2
   },
   "file_extension": ".py",
   "mimetype": "text/x-python",
   "name": "python",
   "nbconvert_exporter": "python",
   "pygments_lexer": "ipython2",
   "version": "2.7.6"
  }
 },
 "nbformat": 4,
 "nbformat_minor": 0
}