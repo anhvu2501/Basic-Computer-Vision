{
 "cells": [
  {
   "cell_type": "code",
   "execution_count": 1,
   "metadata": {
    "collapsed": true,
    "pycharm": {
     "name": "#%%\n"
    }
   },
   "outputs": [],
   "source": [
    "import cv2\n",
    "import numpy as np"
   ]
  },
  {
   "cell_type": "code",
   "execution_count": 9,
   "outputs": [],
   "source": [
    "img = cv2.imread('Photos/word.jpg')\n",
    "gray_img = cv2.cvtColor(img, cv2.COLOR_BGR2GRAY)"
   ],
   "metadata": {
    "collapsed": false,
    "pycharm": {
     "name": "#%%\n"
    }
   }
  },
  {
   "cell_type": "code",
   "execution_count": 10,
   "outputs": [
    {
     "name": "stdout",
     "output_type": "stream",
     "text": [
      "128.0\n"
     ]
    },
    {
     "data": {
      "text/plain": "True"
     },
     "execution_count": 10,
     "metadata": {},
     "output_type": "execute_result"
    }
   ],
   "source": [
    "# Binary image and thresholding\n",
    "\n",
    "# convert grayscale images to binary images\n",
    "(threshold, binary_image) = cv2.threshold(gray_img, 128, 255, cv2.THRESH_BINARY)\n",
    "print(threshold)\n",
    "cv2.imwrite('Photos/Binary Image.png', binary_image)"
   ],
   "metadata": {
    "collapsed": false,
    "pycharm": {
     "name": "#%%\n"
    }
   }
  },
  {
   "cell_type": "code",
   "execution_count": 12,
   "outputs": [],
   "source": [
    "# Dilation and Erosion\n",
    "cv2.imshow(\"Original\", img)\n",
    "\n",
    "for i in range(0, 3):\n",
    "    dilated = cv2.dilate(gray_img.copy(), None, iterations=i+1)\n",
    "    cv2.imshow(\"Dilated {} times\".format(i+1), dilated)\n",
    "    cv2.waitKey(0)\n",
    "cv2.destroyAllWindows()\n",
    "\n",
    "cv2.imshow(\"Original\", img)\n",
    "\n",
    "for i in range(0, 3):\n",
    "    eroded = cv2.erode(gray_img.copy(), None, iterations=i+1)\n",
    "    cv2.imshow(\"Eroded {} times\".format(i+1), eroded)\n",
    "    cv2.waitKey(0)\n",
    "cv2.destroyAllWindows()"
   ],
   "metadata": {
    "collapsed": false,
    "pycharm": {
     "name": "#%%\n"
    }
   }
  },
  {
   "cell_type": "code",
   "execution_count": 14,
   "outputs": [],
   "source": [
    "# Opening: erosion then dilation\n",
    "cv2.imshow(\"Original\", img)\n",
    "kernelSizes = [(3, 3), (5, 5), (7, 7)]\n",
    "\n",
    "for kernelSize in kernelSizes:\n",
    "    # cv2.getStructuringElement to build our structuring element, takes 2 params: 1st is the type, 2nd is the size\n",
    "\tkernel = cv2.getStructuringElement(cv2.MORPH_RECT, kernelSize) # rectangular structuring element\n",
    "\topening = cv2.morphologyEx(gray_img, cv2.MORPH_OPEN, kernel) # 2nd param is the actual type of morphological operation\n",
    "\tcv2.imshow(\"Opening: ({}, {})\".format(\n",
    "\t\tkernelSize[0], kernelSize[1]), opening)\n",
    "\tcv2.waitKey(0)\n",
    "\n",
    "cv2.destroyAllWindows()"
   ],
   "metadata": {
    "collapsed": false,
    "pycharm": {
     "name": "#%%\n"
    }
   }
  },
  {
   "cell_type": "code",
   "execution_count": 15,
   "outputs": [],
   "source": [
    "# Closing: Dilation then Erosion\n",
    "cv2.imshow(\"Original\", img)\n",
    "kernelSizes = [(3, 3), (5, 5), (7, 7)]\n",
    "\n",
    "for kernelSize in kernelSizes:\n",
    "    # cv2.getStructuringElement to build our structuring element, takes 2 params: 1st is the type, 2nd is the size\n",
    "\tkernel = cv2.getStructuringElement(cv2.MORPH_RECT, kernelSize) # rectangular structuring element\n",
    "\tclosing = cv2.morphologyEx(gray_img, cv2.MORPH_CLOSE, kernel) # 2nd param is the actual type of morphological operation\n",
    "\tcv2.imshow(\"Closing: ({}, {})\".format(\n",
    "\t\tkernelSize[0], kernelSize[1]), closing)\n",
    "\tcv2.waitKey(0)\n",
    "\n",
    "cv2.destroyAllWindows()"
   ],
   "metadata": {
    "collapsed": false,
    "pycharm": {
     "name": "#%%\n"
    }
   }
  },
  {
   "cell_type": "code",
   "execution_count": 16,
   "outputs": [],
   "source": [
    "# Morphological Gradient: difference between dilation and erosion\n",
    "cv2.imshow(\"Original\", img)\n",
    "kernelSizes = [(3, 3), (5, 5), (7, 7)]\n",
    "\n",
    "for kernelSize in kernelSizes:\n",
    "    # cv2.getStructuringElement to build our structuring element, takes 2 params: 1st is the type, 2nd is the size\n",
    "\tkernel = cv2.getStructuringElement(cv2.MORPH_RECT, kernelSize) # rectangular structuring element\n",
    "\tgradient = cv2.morphologyEx(gray_img, cv2.MORPH_GRADIENT, kernel) # 2nd param is the actual type of morphological operation\n",
    "\tcv2.imshow(\"Gradient: ({}, {})\".format(\n",
    "\t\tkernelSize[0], kernelSize[1]), gradient)\n",
    "\tcv2.waitKey(0)\n",
    "\n",
    "cv2.destroyAllWindows()"
   ],
   "metadata": {
    "collapsed": false,
    "pycharm": {
     "name": "#%%\n"
    }
   }
  }
 ],
 "metadata": {
  "kernelspec": {
   "display_name": "Python 3",
   "language": "python",
   "name": "python3"
  },
  "language_info": {
   "codemirror_mode": {
    "name": "ipython",
    "version": 2
   },
   "file_extension": ".py",
   "mimetype": "text/x-python",
   "name": "python",
   "nbconvert_exporter": "python",
   "pygments_lexer": "ipython2",
   "version": "2.7.6"
  }
 },
 "nbformat": 4,
 "nbformat_minor": 0
}