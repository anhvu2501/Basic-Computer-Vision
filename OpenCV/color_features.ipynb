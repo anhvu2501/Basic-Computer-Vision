{
 "cells": [
  {
   "cell_type": "code",
   "execution_count": 1,
   "metadata": {
    "collapsed": true,
    "pycharm": {
     "name": "#%%\n"
    }
   },
   "outputs": [],
   "source": [
    "import cv2\n",
    "import numpy as np"
   ]
  },
  {
   "cell_type": "code",
   "execution_count": 27,
   "outputs": [],
   "source": [
    "# Based on https://medium.com/mlearning-ai/color-shape-and-texture-feature-extraction-using-opencv-cb1feb2dbd73\n",
    "# Part 1\n",
    "img = cv2.imread('Photos/dalmatian.jpeg')\n",
    "hsv_img = cv2.cvtColor(img, cv2.COLOR_BGR2HSV)\n",
    "lab_img = cv2.cvtColor(img, cv2.COLOR_BGR2LAB)\n",
    "ycrcb_img = cv2.cvtColor(img, cv2.COLOR_BGR2YCrCb)\n",
    "\n",
    "cv2.imshow(\"Original Image\", img)\n",
    "cv2.imshow(\"HSV\", hsv_img)\n",
    "cv2.imshow(\"LAB\", lab_img)\n",
    "cv2.imshow(\"YCrCb\", ycrcb_img)\n",
    "cv2.waitKey(0)\n",
    "cv2.destroyAllWindows()"
   ],
   "metadata": {
    "collapsed": false,
    "pycharm": {
     "name": "#%%\n"
    }
   }
  },
  {
   "cell_type": "markdown",
   "source": [
    "### Some other methods\n",
    "- Use numpy.mean() which gives the mean of each channel in the color space within an image dataset. This is specifically ***useful if we want to see which channel within the color space dominates the dataset.***\n",
    "- Use cv2.inRange() to mask unwanted pixels. This is especially practical in the HSV color space.\n",
    "- Use cv2.kmeans() to quantize the color of an image, essentially reducing the colors down to a handful of neat pixels. This function works like a charm in identifying important parts of the image"
   ],
   "metadata": {
    "collapsed": false,
    "pycharm": {
     "name": "#%% md\n"
    }
   }
  },
  {
   "cell_type": "code",
   "execution_count": 28,
   "outputs": [],
   "source": [
    "### Use cv2.inRange() to mask unwanted pixels\n",
    "\n",
    "# Setting the black pixel mask and perform bitwise_and to get only the black pixels\n",
    "# params:\n",
    "# - src\n",
    "# - lowerb: inclusive lower boundary array or a scalar\n",
    "# - upperb: inclusive upper boundary array or a scalar\n",
    "# => check if array elements lie between the elements of 2 other arrays?\n",
    "mask = cv2.inRange(hsv_img, (0, 0, 0), (180, 255, 40))\n",
    "masked = cv2.bitwise_and(hsv_img, hsv_img, mask=mask)\n",
    "cv2.imshow(\"Masked\", masked)\n",
    "cv2.waitKey(0)\n",
    "cv2.destroyAllWindows()"
   ],
   "metadata": {
    "collapsed": false,
    "pycharm": {
     "name": "#%%\n"
    }
   }
  },
  {
   "cell_type": "code",
   "execution_count": 29,
   "outputs": [],
   "source": [
    "### Use cv2.kmeans() to quantize the color of an image, essentially reducing the colors down to a handful of neat pixels\n",
    "\n",
    "image_spot_reshaped = img.reshape((img.shape[0] * img.shape[1], 3))\n",
    "\n",
    "# convert to np.float32\n",
    "Z = np.float32(image_spot_reshaped)\n",
    "\n",
    "# define criteria, number of clusters(K) and apply kmeans()\n",
    "criteria = (cv2.TERM_CRITERIA_EPS + cv2.TERM_CRITERIA_MAX_ITER, 10, 1.0)\n",
    "K = 2\n",
    "ret, label, center = cv2.kmeans(Z, K, None, criteria, 10, cv2.KMEANS_RANDOM_CENTERS)\n",
    "\n",
    "# Now convert back into uint8, and make original image\n",
    "center = np.uint8(center)\n",
    "res = center[label.flatten()]\n",
    "res2 = res.reshape(img.shape)\n",
    "\n",
    "\n",
    "cv2.imshow(\"After applying kmeans\", res2)\n",
    "cv2.waitKey(0)\n",
    "cv2.destroyAllWindows()"
   ],
   "metadata": {
    "collapsed": false,
    "pycharm": {
     "name": "#%%\n"
    }
   }
  }
 ],
 "metadata": {
  "kernelspec": {
   "display_name": "Python 3",
   "language": "python",
   "name": "python3"
  },
  "language_info": {
   "codemirror_mode": {
    "name": "ipython",
    "version": 2
   },
   "file_extension": ".py",
   "mimetype": "text/x-python",
   "name": "python",
   "nbconvert_exporter": "python",
   "pygments_lexer": "ipython2",
   "version": "2.7.6"
  }
 },
 "nbformat": 4,
 "nbformat_minor": 0
}