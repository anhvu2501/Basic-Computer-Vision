{
 "cells": [
  {
   "cell_type": "code",
   "execution_count": 5,
   "metadata": {
    "collapsed": true,
    "pycharm": {
     "name": "#%%\n"
    }
   },
   "outputs": [],
   "source": [
    "import cv2\n",
    "import numpy as np"
   ]
  },
  {
   "cell_type": "code",
   "execution_count": 112,
   "outputs": [
    {
     "name": "stdout",
     "output_type": "stream",
     "text": [
      "90\n"
     ]
    }
   ],
   "source": [
    "# Count objects for the first image with normal noise\n",
    "img = cv2.imread(\"Photos/Rice/1_wIXlvBeAFtNVgJd49VObgQ.png\")\n",
    "gray = cv2.cvtColor(img, cv2.COLOR_BGR2GRAY)\n",
    "\n",
    "# Remove noise\n",
    "# Seems like, if without opening step, median blur gives a better result compare to gaussian blur\n",
    "blur = cv2.GaussianBlur(gray, (5, 5), 0)\n",
    "\n",
    "# After testing the threshold value, I think 119 or 120 would be appropriate bc after thresholding, I apply opening to remove small objects.\n",
    "_, thresh = cv2.threshold(blur, 119, 255, cv2.THRESH_BINARY)\n",
    "\n",
    "# Apply opening to remove small objects\n",
    "kernel = cv2.getStructuringElement(cv2.MORPH_RECT, (3, 3)) # rectangular structuring element\n",
    "opening = cv2.morphologyEx(thresh, cv2.MORPH_OPEN, kernel)\n",
    "\n",
    "# Count object by counting the contour shapes\n",
    "contours, hierarchy = cv2.findContours(opening, cv2.RETR_EXTERNAL, cv2.CHAIN_APPROX_SIMPLE)\n",
    "objects = str(len(contours))\n",
    "text = str(objects)\n",
    "cv2.putText(opening, text, (10, 25), cv2.FONT_HERSHEY_SIMPLEX,\n",
    "                   0.4, (255, 0, 0), 1, cv2.LINE_AA)\n",
    "print(objects)\n",
    "\n",
    "cv2.drawContours(img, contours, -1, (255, 0, 0), 3)\n",
    "cv2.imshow('Thresh', thresh)\n",
    "cv2.imshow('Opening', opening)\n",
    "cv2.imshow('Contours', img)\n",
    "\n",
    "cv2.waitKey(0)\n",
    "cv2.destroyAllWindows()"
   ],
   "metadata": {
    "collapsed": false,
    "pycharm": {
     "name": "#%%\n"
    }
   }
  },
  {
   "cell_type": "code",
   "execution_count": 109,
   "outputs": [
    {
     "name": "stdout",
     "output_type": "stream",
     "text": [
      "89\n"
     ]
    }
   ],
   "source": [
    "# Count objects for the second image with salt pepper noise\n",
    "img = cv2.imread(\"Photos/Rice/1_wIXlvBeAFtNVgJd49VObgQ.png_Salt_Pepper_Noise1.png\")\n",
    "gray = cv2.cvtColor(img, cv2.COLOR_BGR2GRAY)\n",
    "\n",
    "# Remove noise using median blur\n",
    "blur = cv2.medianBlur(gray, 5)\n",
    "\n",
    "# After testing the threshold value, I think 116 or 117 would be appropriate bc after thresholding, I apply opening to remove small objects.\n",
    "_, thresh = cv2.threshold(blur, 117, 255, cv2.THRESH_BINARY)\n",
    "\n",
    "# Apply opening to remove small objects\n",
    "kernel = cv2.getStructuringElement(cv2.MORPH_RECT, (5, 5)) # rectangular structuring element\n",
    "opening = cv2.morphologyEx(thresh, cv2.MORPH_OPEN, kernel)\n",
    "\n",
    "# Count object by counting the contour shapes\n",
    "contours, hierarchy = cv2.findContours(opening, cv2.RETR_EXTERNAL, cv2.CHAIN_APPROX_SIMPLE)\n",
    "objects = str(len(contours))\n",
    "text = str(objects)\n",
    "cv2.putText(opening, text, (10, 25), cv2.FONT_HERSHEY_SIMPLEX,\n",
    "                   0.4, (255, 0, 0), 1, cv2.LINE_AA)\n",
    "print(objects)\n",
    "\n",
    "cv2.drawContours(img, contours, -1, (255, 0, 0), 3)\n",
    "cv2.imshow('Thresh', thresh)\n",
    "cv2.imshow('Opening', opening)\n",
    "cv2.imshow('Contours', img)\n",
    "\n",
    "cv2.waitKey(0)\n",
    "cv2.destroyAllWindows()"
   ],
   "metadata": {
    "collapsed": false,
    "pycharm": {
     "name": "#%%\n"
    }
   }
  },
  {
   "cell_type": "code",
   "execution_count": 114,
   "outputs": [
    {
     "name": "stdout",
     "output_type": "stream",
     "text": [
      "17\n"
     ]
    }
   ],
   "source": [
    "# Count objects for the third image with sinus noise => cannot use normal filter to blur(remove noise)\n",
    "img = cv2.imread(\"Photos/Rice/1_wIXlvBeAFtNVgJd49VObgQ_sinus.png\")\n",
    "gray = cv2.cvtColor(img, cv2.COLOR_BGR2GRAY)\n",
    "\n",
    "# Use FFT (frequency domain)\n",
    "blur = cv2.GaussianBlur(gray, (5, 5), 0)\n",
    "\n",
    "# After testing the threshold value, I think 116 or 117 would be appropriate bc after thresholding, I apply opening to remove small objects.\n",
    "_, thresh = cv2.threshold(blur, 117, 255, cv2.THRESH_BINARY)\n",
    "\n",
    "# Apply opening to remove small objects\n",
    "kernel = cv2.getStructuringElement(cv2.MORPH_RECT, (5, 5)) # rectangular structuring element\n",
    "opening = cv2.morphologyEx(thresh, cv2.MORPH_OPEN, kernel)\n",
    "\n",
    "# Count object by counting the contour shapes\n",
    "contours, hierarchy = cv2.findContours(opening, cv2.RETR_EXTERNAL, cv2.CHAIN_APPROX_SIMPLE)\n",
    "objects = str(len(contours))\n",
    "text = str(objects)\n",
    "cv2.putText(opening, text, (10, 25), cv2.FONT_HERSHEY_SIMPLEX,\n",
    "                   0.4, (255, 0, 0), 1, cv2.LINE_AA)\n",
    "print(objects)\n",
    "\n",
    "cv2.drawContours(img, contours, -1, (255, 0, 0), 3)\n",
    "cv2.imshow('Thresh', thresh)\n",
    "cv2.imshow('Opening', opening)\n",
    "cv2.imshow('Contours', img)\n",
    "\n",
    "cv2.waitKey(0)\n",
    "cv2.destroyAllWindows()"
   ],
   "metadata": {
    "collapsed": false,
    "pycharm": {
     "name": "#%%\n"
    }
   }
  }
 ],
 "metadata": {
  "kernelspec": {
   "display_name": "Python 3",
   "language": "python",
   "name": "python3"
  },
  "language_info": {
   "codemirror_mode": {
    "name": "ipython",
    "version": 2
   },
   "file_extension": ".py",
   "mimetype": "text/x-python",
   "name": "python",
   "nbconvert_exporter": "python",
   "pygments_lexer": "ipython2",
   "version": "2.7.6"
  }
 },
 "nbformat": 4,
 "nbformat_minor": 0
}